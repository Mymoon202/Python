{
 "cells": [
  {
   "cell_type": "code",
   "execution_count": 2,
   "id": "38c61de6-eed5-47ba-b681-c2c225ab54af",
   "metadata": {},
   "outputs": [
    {
     "name": "stdin",
     "output_type": "stream",
     "text": [
      "enter number of rows: 2\n",
      "enter number of columns: 2\n",
      "Enter the values:[0,0] 1\n",
      "Enter the values:[0,1] 2\n",
      "Enter the values:[1,0] 3\n",
      "Enter the values:[1,1] 4\n"
     ]
    },
    {
     "name": "stdout",
     "output_type": "stream",
     "text": [
      "[1, 2]\n",
      "[3, 4]\n",
      "[1, 3]\n",
      "[2, 4]\n"
     ]
    }
   ],
   "source": [
    "r=int(input(\"enter number of rows:\"))\n",
    "c=int(input(\"enter number of columns:\"))\n",
    "matrix=[[int(input(f\"Enter the values:[{j},{i}]\"))for i in range (c)] for j in range (r)]\n",
    "for row in matrix:\n",
    "    print(row)\n",
    "transpose=[[matrix[i][j] for i in range(r)] for j in range(c)]\n",
    "for row in transpose:\n",
    "    print(row)"
   ]
  },
  {
   "cell_type": "code",
   "execution_count": 17,
   "id": "bd156e1e-0392-43e8-9255-964d86179637",
   "metadata": {},
   "outputs": [
    {
     "name": "stdout",
     "output_type": "stream",
     "text": [
      "1\n",
      "Current list: [7, 0, 8, 6]\n",
      "List= [1, 7, 0, 8, 6]\n"
     ]
    }
   ],
   "source": [
    "list=[7,0,8,6,1]\n",
    "pop_element=list.pop()\n",
    "print(pop_element)\n",
    "print(\"Current list:\",list)\n",
    "list.insert(0,pop_element)\n",
    "print(\"List=\",list)"
   ]
  },
  {
   "cell_type": "code",
   "execution_count": null,
   "id": "9008513f-fe2a-45dc-ac53-6ba9f8df5ec3",
   "metadata": {},
   "outputs": [],
   "source": []
  }
 ],
 "metadata": {
  "kernelspec": {
   "display_name": "Python 3 (ipykernel)",
   "language": "python",
   "name": "python3"
  },
  "language_info": {
   "codemirror_mode": {
    "name": "ipython",
    "version": 3
   },
   "file_extension": ".py",
   "mimetype": "text/x-python",
   "name": "python",
   "nbconvert_exporter": "python",
   "pygments_lexer": "ipython3",
   "version": "3.11.0"
  }
 },
 "nbformat": 4,
 "nbformat_minor": 5
}
