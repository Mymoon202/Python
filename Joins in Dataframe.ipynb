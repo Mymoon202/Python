{
 "cells": [
  {
   "cell_type": "code",
   "execution_count": 4,
   "id": "4eca39a2-7de1-4653-b53d-6b5575fe0c9f",
   "metadata": {},
   "outputs": [],
   "source": [
    "import pandas as pd\n",
    "\n",
    "df1=pd.DataFrame({'id':[1,2,3],'name':['Sam','Cris','Leya']})\n",
    "df2=pd.DataFrame({'id':[2,3,4],'age':[26,30,21]})"
   ]
  },
  {
   "cell_type": "code",
   "execution_count": 6,
   "id": "5371fcdf-43a9-4ee7-83bd-8ef3f028f8f1",
   "metadata": {},
   "outputs": [
    {
     "name": "stdout",
     "output_type": "stream",
     "text": [
      "   id  name   age\n",
      "0   1   Sam   NaN\n",
      "1   2  Cris  26.0\n",
      "2   3  Leya  30.0\n"
     ]
    }
   ],
   "source": [
    "left_join=pd.merge(df1,df2,on='id',how='left')\n",
    "print(left_join)"
   ]
  },
  {
   "cell_type": "code",
   "execution_count": 5,
   "id": "6e0183c4-f3ee-46e6-9bf3-e53ce1505e9a",
   "metadata": {},
   "outputs": [
    {
     "name": "stdout",
     "output_type": "stream",
     "text": [
      "   id  name  age\n",
      "0   2  Cris   26\n",
      "1   3  Leya   30\n"
     ]
    }
   ],
   "source": [
    "inner_join=pd.merge(df1,df2,on='id')\n",
    "print(inner_join)"
   ]
  },
  {
   "cell_type": "code",
   "execution_count": 7,
   "id": "0793de1a-8726-4877-a88e-a7d709306d21",
   "metadata": {},
   "outputs": [
    {
     "name": "stdout",
     "output_type": "stream",
     "text": [
      "   id  name  age\n",
      "0   2  Cris   26\n",
      "1   3  Leya   30\n",
      "2   4   NaN   21\n"
     ]
    }
   ],
   "source": [
    "right_join=pd.merge(df1,df2,on='id',how='right')\n",
    "print(right_join)"
   ]
  },
  {
   "cell_type": "code",
   "execution_count": 8,
   "id": "170b4750-bc10-47ca-9778-5682ea5567ee",
   "metadata": {},
   "outputs": [
    {
     "name": "stdout",
     "output_type": "stream",
     "text": [
      "   id  name   age\n",
      "0   1   Sam   NaN\n",
      "1   2  Cris  26.0\n",
      "2   3  Leya  30.0\n",
      "3   4   NaN  21.0\n"
     ]
    }
   ],
   "source": [
    "outer_join=pd.merge(df1,df2,on='id',how='outer')\n",
    "print(outer_join)"
   ]
  },
  {
   "cell_type": "code",
   "execution_count": null,
   "id": "4ebde059-399a-4cce-8ca2-0d0174d0dc49",
   "metadata": {},
   "outputs": [],
   "source": []
  }
 ],
 "metadata": {
  "kernelspec": {
   "display_name": "Python 3 (ipykernel)",
   "language": "python",
   "name": "python3"
  },
  "language_info": {
   "codemirror_mode": {
    "name": "ipython",
    "version": 3
   },
   "file_extension": ".py",
   "mimetype": "text/x-python",
   "name": "python",
   "nbconvert_exporter": "python",
   "pygments_lexer": "ipython3",
   "version": "3.11.0"
  }
 },
 "nbformat": 4,
 "nbformat_minor": 5
}
